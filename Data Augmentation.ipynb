{
 "cells": [
  {
   "cell_type": "code",
   "execution_count": 1,
   "metadata": {},
   "outputs": [
    {
     "name": "stderr",
     "output_type": "stream",
     "text": [
      "Using TensorFlow backend.\n"
     ]
    }
   ],
   "source": [
    "from keras.preprocessing.image import ImageDataGenerator, array_to_img, img_to_array,load_img\n",
    "import glob"
   ]
  },
  {
   "cell_type": "code",
   "execution_count": 2,
   "metadata": {},
   "outputs": [],
   "source": [
    "datagen = ImageDataGenerator(\n",
    "        rotation_range = 40, width_shift_range =0.2, height_shift_range=0.2,\n",
    "        shear_range=0.2,horizontal_flip=True,fill_mode='nearest')"
   ]
  },
  {
   "cell_type": "code",
   "execution_count": 3,
   "metadata": {},
   "outputs": [],
   "source": [
    "# from PIL import Image\n",
    "# img_list = []\n",
    "# img1 = []"
   ]
  },
  {
   "cell_type": "code",
   "execution_count": 133,
   "metadata": {},
   "outputs": [],
   "source": [
    "# for img in glob.glob('/new_tumor/*.jpg'):\n",
    "#     img = Image.open(img)\n",
    "#     img_list.append(img)\n",
    "    \n",
    "img = load_img('C:/Users/YASHIM GABRIEL/Desktop/Real data for use/resized_dataset/new_No tumor/img69.jpg')\n",
    "x= img_to_array(img)\n",
    "x= x.reshape((1,) + x.shape)\n",
    "    \n",
    "\n",
    "i=0\n",
    "\n",
    "for batch in datagen.flow(x, batch_size=1, save_to_dir='preview', save_prefix='AUG_img', save_format='jpg'):\n",
    "    i+=1\n",
    "    if i > 30:\n",
    "        break "
   ]
  },
  {
   "cell_type": "code",
   "execution_count": null,
   "metadata": {},
   "outputs": [],
   "source": []
  }
 ],
 "metadata": {
  "kernelspec": {
   "display_name": "Python 3",
   "language": "python",
   "name": "python3"
  },
  "language_info": {
   "codemirror_mode": {
    "name": "ipython",
    "version": 3
   },
   "file_extension": ".py",
   "mimetype": "text/x-python",
   "name": "python",
   "nbconvert_exporter": "python",
   "pygments_lexer": "ipython3",
   "version": "3.7.4"
  }
 },
 "nbformat": 4,
 "nbformat_minor": 2
}
