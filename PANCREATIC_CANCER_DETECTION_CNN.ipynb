{
 "cells": [
  {
   "cell_type": "code",
   "execution_count": 3,
   "metadata": {
    "executionInfo": {
     "elapsed": 7123,
     "status": "ok",
     "timestamp": 1647861618538,
     "user": {
      "displayName": "Yashim Gabriel",
      "photoUrl": "https://lh3.googleusercontent.com/a-/AOh14Gjw9drS3wLJiPZisU2AVVfw1bPaiSVEro8fC_lQBw=s64",
      "userId": "09182690880857804954"
     },
     "user_tz": -60
    },
    "id": "bG7AAg930_Th"
   },
   "outputs": [],
   "source": [
    "# importing the  libraries needed to build a CNN model\n",
    "\n",
    "import tensorflow as tf\n",
    "import keras\n",
    "from keras.models import Sequential\n",
    "from keras.layers import Dense,Dropout,Flatten,Conv2D,MaxPooling2D,Activation\n",
    "from tensorflow.keras.callbacks import TensorBoard\n",
    "import time"
   ]
  },
  {
   "cell_type": "code",
   "execution_count": 4,
   "metadata": {
    "executionInfo": {
     "elapsed": 19,
     "status": "ok",
     "timestamp": 1647861618541,
     "user": {
      "displayName": "Yashim Gabriel",
      "photoUrl": "https://lh3.googleusercontent.com/a-/AOh14Gjw9drS3wLJiPZisU2AVVfw1bPaiSVEro8fC_lQBw=s64",
      "userId": "09182690880857804954"
     },
     "user_tz": -60
    },
    "id": "xjPkM7KU1Dkg"
   },
   "outputs": [],
   "source": [
    "# The name of our log folder\n",
    "\n",
    "NAME = \"PANCREATIC_CANCER_DETECTION_CNN_{}\".format(int(time.time()))"
   ]
  },
  {
   "cell_type": "code",
   "execution_count": 2,
   "metadata": {
    "executionInfo": {
     "elapsed": 15,
     "status": "ok",
     "timestamp": 1647861618543,
     "user": {
      "displayName": "Yashim Gabriel",
      "photoUrl": "https://lh3.googleusercontent.com/a-/AOh14Gjw9drS3wLJiPZisU2AVVfw1bPaiSVEro8fC_lQBw=s64",
      "userId": "09182690880857804954"
     },
     "user_tz": -60
    },
    "id": "gGIHs3kh1bvW"
   },
   "outputs": [],
   "source": [
    "# The path for storing the logs & data of the train and validation process\n",
    "\n",
    "tensorboard= TensorBoard(log_dir=\"logs/{}\".format(NAME))"
   ]
  },
  {
   "cell_type": "code",
   "execution_count": 6,
   "metadata": {
    "executionInfo": {
     "elapsed": 431,
     "status": "ok",
     "timestamp": 1647861622627,
     "user": {
      "displayName": "Yashim Gabriel",
      "photoUrl": "https://lh3.googleusercontent.com/a-/AOh14Gjw9drS3wLJiPZisU2AVVfw1bPaiSVEro8fC_lQBw=s64",
      "userId": "09182690880857804954"
     },
     "user_tz": -60
    },
    "id": "_Yu-HaRO1ekO"
   },
   "outputs": [],
   "source": [
    "# Importing our preprocessed dataset in numpy array format\n",
    "\n",
    "import pickle\n",
    "\n",
    "x = pickle.load(open(\"x.pickle\",\"rb\"))\n",
    "y = pickle.load(open(\"y.pickle\",\"rb\"))"
   ]
  },
  {
   "cell_type": "code",
   "execution_count": 7,
   "metadata": {
    "executionInfo": {
     "elapsed": 514,
     "status": "ok",
     "timestamp": 1647861623647,
     "user": {
      "displayName": "Yashim Gabriel",
      "photoUrl": "https://lh3.googleusercontent.com/a-/AOh14Gjw9drS3wLJiPZisU2AVVfw1bPaiSVEro8fC_lQBw=s64",
      "userId": "09182690880857804954"
     },
     "user_tz": -60
    },
    "id": "2snGB1hP1hn9"
   },
   "outputs": [],
   "source": [
    "import numpy as np\n",
    "\n",
    "x = x/255.0 #this is to help us normalize the data (scaling the data)\n",
    "y = np.array(y) # the labels: 1= no_tumor, 0 = tumor"
   ]
  },
  {
   "cell_type": "code",
   "execution_count": 4,
   "metadata": {
    "executionInfo": {
     "elapsed": 442,
     "status": "ok",
     "timestamp": 1647861750296,
     "user": {
      "displayName": "Yashim Gabriel",
      "photoUrl": "https://lh3.googleusercontent.com/a-/AOh14Gjw9drS3wLJiPZisU2AVVfw1bPaiSVEro8fC_lQBw=s64",
      "userId": "09182690880857804954"
     },
     "user_tz": -60
    },
    "id": "4XafbucJ1zWP"
   },
   "outputs": [],
   "source": [
    "# Building the CNN Model\n",
    "\n",
    "model = Sequential()\n",
    "\n",
    "model.add(Conv2D(32, (3, 3), input_shape=x.shape[1:])) \n",
    "model.add(Activation(\"relu\"))\n",
    "model.add(MaxPooling2D(pool_size=(2,2)))\n",
    "\n",
    "model.add(Conv2D(32, (3, 3))) \n",
    "model.add(Activation(\"relu\"))\n",
    "model.add(MaxPooling2D(pool_size=(2, 2))) \n",
    "\n",
    "model.add(Conv2D(64, (3, 3))) \n",
    "model.add(Activation(\"relu\"))\n",
    "model.add(Dropout(0.3)) \n",
    "\n",
    "model.add(Conv2D(64, (3, 3)))\n",
    "model.add(Activation(\"relu\"))\n",
    "model.add(MaxPooling2D(pool_size=(2, 2))) \n",
    "\n",
    "model.add(Conv2D(128, (3, 3)))\n",
    "model.add(Activation(\"relu\"))\n",
    "model.add(Dropout(0.3)) \n",
    "\n",
    "model.add(Conv2D(128, (3, 3)))\n",
    "model.add(Activation(\"relu\"))\n",
    "model.add(MaxPooling2D(pool_size=(2, 2))) \n",
    "model.add(Dropout(0.3)) \n",
    "\n",
    "model.add(Flatten())\n",
    "model.add(Dropout(0.3)) \n",
    "\n",
    "model.add(Dense(100, activation='relu')) \n",
    "model.add(Dropout(0.3)) \n",
    "model.add(Dense(1, activation='sigmoid'))"
   ]
  },
  {
   "cell_type": "code",
   "execution_count": 12,
   "metadata": {
    "executionInfo": {
     "elapsed": 361,
     "status": "ok",
     "timestamp": 1647861752455,
     "user": {
      "displayName": "Yashim Gabriel",
      "photoUrl": "https://lh3.googleusercontent.com/a-/AOh14Gjw9drS3wLJiPZisU2AVVfw1bPaiSVEro8fC_lQBw=s64",
      "userId": "09182690880857804954"
     },
     "user_tz": -60
    },
    "id": "VNbfOfeZ15_N"
   },
   "outputs": [],
   "source": [
    "model.compile(loss=\"binary_crossentropy\",\n",
    "             optimizer=\"adam\",\n",
    "             metrics=[\"accuracy\"])"
   ]
  },
  {
   "cell_type": "code",
   "execution_count": 13,
   "metadata": {
    "colab": {
     "base_uri": "https://localhost:8080/"
    },
    "executionInfo": {
     "elapsed": 52669,
     "status": "ok",
     "timestamp": 1647861806500,
     "user": {
      "displayName": "Yashim Gabriel",
      "photoUrl": "https://lh3.googleusercontent.com/a-/AOh14Gjw9drS3wLJiPZisU2AVVfw1bPaiSVEro8fC_lQBw=s64",
      "userId": "09182690880857804954"
     },
     "user_tz": -60
    },
    "id": "9wVSoxzEBltc",
    "outputId": "db119697-bc20-41e4-f98b-b4c26b2b9c3e"
   },
   "outputs": [
    {
     "name": "stdout",
     "output_type": "stream",
     "text": [
      "Epoch 1/16\n",
      "80/80 [==============================] - 5s 45ms/step - loss: 0.6945 - accuracy: 0.5016 - val_loss: 0.6939 - val_accuracy: 0.4843\n",
      "Epoch 2/16\n",
      "80/80 [==============================] - 3s 40ms/step - loss: 0.6877 - accuracy: 0.5397 - val_loss: 0.6792 - val_accuracy: 0.5519\n",
      "Epoch 3/16\n",
      "80/80 [==============================] - 3s 40ms/step - loss: 0.6788 - accuracy: 0.5829 - val_loss: 0.6719 - val_accuracy: 0.5676\n",
      "Epoch 4/16\n",
      "80/80 [==============================] - 3s 39ms/step - loss: 0.6610 - accuracy: 0.5979 - val_loss: 0.6588 - val_accuracy: 0.5943\n",
      "Epoch 5/16\n",
      "80/80 [==============================] - 3s 40ms/step - loss: 0.6493 - accuracy: 0.6278 - val_loss: 0.6928 - val_accuracy: 0.5110\n",
      "Epoch 6/16\n",
      "80/80 [==============================] - 3s 40ms/step - loss: 0.6433 - accuracy: 0.6258 - val_loss: 0.6377 - val_accuracy: 0.6179\n",
      "Epoch 7/16\n",
      "80/80 [==============================] - 3s 40ms/step - loss: 0.6322 - accuracy: 0.6388 - val_loss: 0.6430 - val_accuracy: 0.6242\n",
      "Epoch 8/16\n",
      "80/80 [==============================] - 3s 39ms/step - loss: 0.6222 - accuracy: 0.6392 - val_loss: 0.6412 - val_accuracy: 0.6022\n",
      "Epoch 9/16\n",
      "80/80 [==============================] - 3s 42ms/step - loss: 0.6038 - accuracy: 0.6671 - val_loss: 0.6012 - val_accuracy: 0.6588\n",
      "Epoch 10/16\n",
      "80/80 [==============================] - 3s 40ms/step - loss: 0.5928 - accuracy: 0.6667 - val_loss: 0.6041 - val_accuracy: 0.6698\n",
      "Epoch 11/16\n",
      "80/80 [==============================] - 3s 39ms/step - loss: 0.5783 - accuracy: 0.6867 - val_loss: 0.5941 - val_accuracy: 0.6840\n",
      "Epoch 12/16\n",
      "80/80 [==============================] - 3s 39ms/step - loss: 0.5630 - accuracy: 0.7001 - val_loss: 0.5697 - val_accuracy: 0.6698\n",
      "Epoch 13/16\n",
      "80/80 [==============================] - 3s 39ms/step - loss: 0.5302 - accuracy: 0.7174 - val_loss: 0.5507 - val_accuracy: 0.6981\n",
      "Epoch 14/16\n",
      "80/80 [==============================] - 3s 40ms/step - loss: 0.5071 - accuracy: 0.7366 - val_loss: 0.5218 - val_accuracy: 0.7248\n",
      "Epoch 15/16\n",
      "80/80 [==============================] - 3s 40ms/step - loss: 0.4714 - accuracy: 0.7575 - val_loss: 0.4905 - val_accuracy: 0.7610\n",
      "Epoch 16/16\n",
      "80/80 [==============================] - 3s 40ms/step - loss: 0.4514 - accuracy: 0.7795 - val_loss: 0.4710 - val_accuracy: 0.7830\n"
     ]
    },
    {
     "data": {
      "text/plain": [
       "<keras.callbacks.History at 0x7f07d4fcc450>"
      ]
     },
     "execution_count": 13,
     "metadata": {},
     "output_type": "execute_result"
    }
   ],
   "source": [
    "# The actual training process\n",
    "\n",
    "model.fit(x, y, batch_size=32, epochs=16, validation_split=0.2, callbacks=[tensorboard]) #, callbacks=[tensorboard]"
   ]
  },
  {
   "cell_type": "code",
   "execution_count": null,
   "metadata": {
    "id": "3QqWtgutJtBr"
   },
   "outputs": [],
   "source": [
    "# model.save('/content/drive/My Drive/pancreatic_model_3.h5') _-_ 3s 38ms/step - loss: 0.4757 - accuracy: 0.7559 - val_loss: 0.5231 - val_accuracy: 0.7500"
   ]
  },
  {
   "cell_type": "code",
   "execution_count": 11,
   "metadata": {
    "executionInfo": {
     "elapsed": 426,
     "status": "ok",
     "timestamp": 1647859542314,
     "user": {
      "displayName": "Yashim Gabriel",
      "photoUrl": "https://lh3.googleusercontent.com/a-/AOh14Gjw9drS3wLJiPZisU2AVVfw1bPaiSVEro8fC_lQBw=s64",
      "userId": "09182690880857804954"
     },
     "user_tz": -60
    },
    "id": "02KVif6NFNJ4"
   },
   "outputs": [],
   "source": [
    "# model.save('/content/drive/My Drive/pancreatic_model_4.h5') #_-_ 3s 39ms/step - loss: 0.4858 - accuracy: 0.7622 - val_loss: 0.5318 - val_accuracy: 0.7374"
   ]
  },
  {
   "cell_type": "code",
   "execution_count": 14,
   "metadata": {
    "executionInfo": {
     "elapsed": 441,
     "status": "ok",
     "timestamp": 1647861873809,
     "user": {
      "displayName": "Yashim Gabriel",
      "photoUrl": "https://lh3.googleusercontent.com/a-/AOh14Gjw9drS3wLJiPZisU2AVVfw1bPaiSVEro8fC_lQBw=s64",
      "userId": "09182690880857804954"
     },
     "user_tz": -60
    },
    "id": "XRnNS7lEOCRv"
   },
   "outputs": [],
   "source": [
    "# model.save('/content/drive/My Drive/pancreatic_model_5.h5') #_-_ 3s 40ms/step - loss: 0.4514 - accuracy: 0.7795 - val_loss: 0.4710 - val_accuracy: 0.7830"
   ]
  },
  {
   "cell_type": "code",
   "execution_count": 6,
   "metadata": {
    "executionInfo": {
     "elapsed": 12,
     "status": "ok",
     "timestamp": 1647859586561,
     "user": {
      "displayName": "Yashim Gabriel",
      "photoUrl": "https://lh3.googleusercontent.com/a-/AOh14Gjw9drS3wLJiPZisU2AVVfw1bPaiSVEro8fC_lQBw=s64",
      "userId": "09182690880857804954"
     },
     "user_tz": -60
    },
    "id": "NVwlmDqoBO3L"
   },
   "outputs": [
    {
     "name": "stderr",
     "output_type": "stream",
     "text": [
      "Using TensorFlow backend.\n"
     ]
    }
   ],
   "source": [
    "from keras.models import load_model "
   ]
  },
  {
   "cell_type": "code",
   "execution_count": 9,
   "metadata": {
    "executionInfo": {
     "elapsed": 1267,
     "status": "ok",
     "timestamp": 1647859590296,
     "user": {
      "displayName": "Yashim Gabriel",
      "photoUrl": "https://lh3.googleusercontent.com/a-/AOh14Gjw9drS3wLJiPZisU2AVVfw1bPaiSVEro8fC_lQBw=s64",
      "userId": "09182690880857804954"
     },
     "user_tz": -60
    },
    "id": "FNH1ijzMBVby"
   },
   "outputs": [],
   "source": [
    "# Loading our pre-trained model\n",
    "\n",
    "model = load_model('pancreatic_model_5.h5')"
   ]
  },
  {
   "cell_type": "code",
   "execution_count": 15,
   "metadata": {
    "colab": {
     "base_uri": "https://localhost:8080/"
    },
    "executionInfo": {
     "elapsed": 537,
     "status": "ok",
     "timestamp": 1647859613043,
     "user": {
      "displayName": "Yashim Gabriel",
      "photoUrl": "https://lh3.googleusercontent.com/a-/AOh14Gjw9drS3wLJiPZisU2AVVfw1bPaiSVEro8fC_lQBw=s64",
      "userId": "09182690880857804954"
     },
     "user_tz": -60
    },
    "id": "fDOOBKxFFe0l",
    "outputId": "10972105-881e-448d-9b8b-cc8c8bb8584a"
   },
   "outputs": [
    {
     "name": "stdout",
     "output_type": "stream",
     "text": [
      "Model: \"sequential\"\n",
      "_________________________________________________________________\n",
      " Layer (type)                Output Shape              Param #   \n",
      "=================================================================\n",
      " conv2d (Conv2D)             (None, 126, 126, 32)      320       \n",
      "                                                                 \n",
      " activation (Activation)     (None, 126, 126, 32)      0         \n",
      "                                                                 \n",
      " max_pooling2d (MaxPooling2D  (None, 63, 63, 32)       0         \n",
      " )                                                               \n",
      "                                                                 \n",
      " conv2d_1 (Conv2D)           (None, 61, 61, 32)        9248      \n",
      "                                                                 \n",
      " activation_1 (Activation)   (None, 61, 61, 32)        0         \n",
      "                                                                 \n",
      " max_pooling2d_1 (MaxPooling  (None, 30, 30, 32)       0         \n",
      " 2D)                                                             \n",
      "                                                                 \n",
      " conv2d_2 (Conv2D)           (None, 28, 28, 64)        18496     \n",
      "                                                                 \n",
      " activation_2 (Activation)   (None, 28, 28, 64)        0         \n",
      "                                                                 \n",
      " dropout (Dropout)           (None, 28, 28, 64)        0         \n",
      "                                                                 \n",
      " conv2d_3 (Conv2D)           (None, 26, 26, 64)        36928     \n",
      "                                                                 \n",
      " activation_3 (Activation)   (None, 26, 26, 64)        0         \n",
      "                                                                 \n",
      " max_pooling2d_2 (MaxPooling  (None, 13, 13, 64)       0         \n",
      " 2D)                                                             \n",
      "                                                                 \n",
      " conv2d_4 (Conv2D)           (None, 11, 11, 128)       73856     \n",
      "                                                                 \n",
      " activation_4 (Activation)   (None, 11, 11, 128)       0         \n",
      "                                                                 \n",
      " dropout_1 (Dropout)         (None, 11, 11, 128)       0         \n",
      "                                                                 \n",
      " conv2d_5 (Conv2D)           (None, 9, 9, 128)         147584    \n",
      "                                                                 \n",
      " activation_5 (Activation)   (None, 9, 9, 128)         0         \n",
      "                                                                 \n",
      " max_pooling2d_3 (MaxPooling  (None, 4, 4, 128)        0         \n",
      " 2D)                                                             \n",
      "                                                                 \n",
      " dropout_2 (Dropout)         (None, 4, 4, 128)         0         \n",
      "                                                                 \n",
      " flatten (Flatten)           (None, 2048)              0         \n",
      "                                                                 \n",
      " dropout_3 (Dropout)         (None, 2048)              0         \n",
      "                                                                 \n",
      " dense (Dense)               (None, 100)               204900    \n",
      "                                                                 \n",
      " dropout_4 (Dropout)         (None, 100)               0         \n",
      "                                                                 \n",
      " dense_1 (Dense)             (None, 1)                 101       \n",
      "                                                                 \n",
      "=================================================================\n",
      "Total params: 491,433\n",
      "Trainable params: 491,433\n",
      "Non-trainable params: 0\n",
      "_________________________________________________________________\n"
     ]
    }
   ],
   "source": [
    "model.summary() # this will show us the structure of the model"
   ]
  },
  {
   "cell_type": "code",
   "execution_count": 38,
   "metadata": {
    "executionInfo": {
     "elapsed": 338,
     "status": "ok",
     "timestamp": 1647860251687,
     "user": {
      "displayName": "Yashim Gabriel",
      "photoUrl": "https://lh3.googleusercontent.com/a-/AOh14Gjw9drS3wLJiPZisU2AVVfw1bPaiSVEro8fC_lQBw=s64",
      "userId": "09182690880857804954"
     },
     "user_tz": -60
    },
    "id": "_QgaJFWUSLN4"
   },
   "outputs": [],
   "source": [
    "# A function to resize and rescale the new image we want to test the model on. so that it will be in the same format a s the \n",
    "# images used to train the model (in a numpy array format)\n",
    "\n",
    "CAT = [\"No_tumor\", \"Tumor\"]\n",
    "\n",
    "def prepare(filepath):\n",
    "    IMG_SIZE = 128\n",
    "    img_array = cv2.imread(filepath, cv2.IMREAD_GRAYSCALE)\n",
    "    new_array = cv2.resize(img_array, (IMG_SIZE,IMG_SIZE))\n",
    "    return new_array.reshape(-1,IMG_SIZE,IMG_SIZE,1)"
   ]
  },
  {
   "cell_type": "code",
   "execution_count": 39,
   "metadata": {
    "colab": {
     "base_uri": "https://localhost:8080/"
    },
    "executionInfo": {
     "elapsed": 15,
     "status": "ok",
     "timestamp": 1647860252800,
     "user": {
      "displayName": "Yashim Gabriel",
      "photoUrl": "https://lh3.googleusercontent.com/a-/AOh14Gjw9drS3wLJiPZisU2AVVfw1bPaiSVEro8fC_lQBw=s64",
      "userId": "09182690880857804954"
     },
     "user_tz": -60
    },
    "id": "JVx2iJ3JSLKu",
    "outputId": "fe486e19-4d30-4d85-bdf0-a51aba0c9ede"
   },
   "outputs": [
    {
     "name": "stdout",
     "output_type": "stream",
     "text": [
      "Tumor\n"
     ]
    }
   ],
   "source": [
    "# impporting the image we want to test the model with, and then making prediction on that image\n",
    "\n",
    "import cv2\n",
    "import os\n",
    "\n",
    "prediction = model.predict([prepare('/content/drive/My Drive/tumor.jpg')])\n",
    "print(CAT[int(prediction[0][0])])"
   ]
  },
  {
   "cell_type": "code",
   "execution_count": 40,
   "metadata": {
    "colab": {
     "base_uri": "https://localhost:8080/"
    },
    "executionInfo": {
     "elapsed": 337,
     "status": "ok",
     "timestamp": 1647860256993,
     "user": {
      "displayName": "Yashim Gabriel",
      "photoUrl": "https://lh3.googleusercontent.com/a-/AOh14Gjw9drS3wLJiPZisU2AVVfw1bPaiSVEro8fC_lQBw=s64",
      "userId": "09182690880857804954"
     },
     "user_tz": -60
    },
    "id": "i0XbZi7hSLHt",
    "outputId": "7a5dd20f-a0d9-4bfa-ca62-795712d87aca"
   },
   "outputs": [
    {
     "name": "stdout",
     "output_type": "stream",
     "text": [
      "Tumor\n"
     ]
    }
   ],
   "source": [
    "prediction = model.predict([prepare('/content/drive/My Drive/tumor_f.jpg')])\n",
    "print(CAT[int(prediction[0][0])])"
   ]
  },
  {
   "cell_type": "code",
   "execution_count": 21,
   "metadata": {
    "executionInfo": {
     "elapsed": 868,
     "status": "ok",
     "timestamp": 1647859755052,
     "user": {
      "displayName": "Yashim Gabriel",
      "photoUrl": "https://lh3.googleusercontent.com/a-/AOh14Gjw9drS3wLJiPZisU2AVVfw1bPaiSVEro8fC_lQBw=s64",
      "userId": "09182690880857804954"
     },
     "user_tz": -60
    },
    "id": "uEO2Ft08B7Cb"
   },
   "outputs": [],
   "source": [
    "# Importing the preprocessed test data and the label\n",
    "\n",
    "import pickle\n",
    "\n",
    "test_data = pickle.load(open(\"test_data.pickle\",\"rb\"))\n",
    "test_label = pickle.load(open(\"test_label.pickle\",\"rb\"))"
   ]
  },
  {
   "cell_type": "code",
   "execution_count": 22,
   "metadata": {
    "executionInfo": {
     "elapsed": 1101,
     "status": "ok",
     "timestamp": 1647859762030,
     "user": {
      "displayName": "Yashim Gabriel",
      "photoUrl": "https://lh3.googleusercontent.com/a-/AOh14Gjw9drS3wLJiPZisU2AVVfw1bPaiSVEro8fC_lQBw=s64",
      "userId": "09182690880857804954"
     },
     "user_tz": -60
    },
    "id": "8bu3TEhoBeIl"
   },
   "outputs": [],
   "source": [
    "# Making prediction on the test data\n",
    "\n",
    "prediction = model.predict(test_data)"
   ]
  },
  {
   "cell_type": "code",
   "execution_count": 23,
   "metadata": {
    "colab": {
     "base_uri": "https://localhost:8080/"
    },
    "executionInfo": {
     "elapsed": 393,
     "status": "ok",
     "timestamp": 1647859774946,
     "user": {
      "displayName": "Yashim Gabriel",
      "photoUrl": "https://lh3.googleusercontent.com/a-/AOh14Gjw9drS3wLJiPZisU2AVVfw1bPaiSVEro8fC_lQBw=s64",
      "userId": "09182690880857804954"
     },
     "user_tz": -60
    },
    "id": "2Kaq5WS3CXT4",
    "outputId": "3acfe405-1832-4bd1-9d56-d585166085d6"
   },
   "outputs": [
    {
     "name": "stdout",
     "output_type": "stream",
     "text": [
      "1\n"
     ]
    }
   ],
   "source": [
    "print(prediction)"
   ]
  },
  {
   "cell_type": "code",
   "execution_count": 24,
   "metadata": {
    "executionInfo": {
     "elapsed": 304,
     "status": "ok",
     "timestamp": 1647859776942,
     "user": {
      "displayName": "Yashim Gabriel",
      "photoUrl": "https://lh3.googleusercontent.com/a-/AOh14Gjw9drS3wLJiPZisU2AVVfw1bPaiSVEro8fC_lQBw=s64",
      "userId": "09182690880857804954"
     },
     "user_tz": -60
    },
    "id": "d-SLq7s4Cq9Y"
   },
   "outputs": [],
   "source": [
    "#Rounding off the values of the predicted probabilities\n",
    "\n",
    "import numpy as np\n",
    "\n",
    "rounded_prediction= np.argmax(prediction, axis=1)"
   ]
  },
  {
   "cell_type": "code",
   "execution_count": 26,
   "metadata": {
    "colab": {
     "base_uri": "https://localhost:8080/"
    },
    "executionInfo": {
     "elapsed": 335,
     "status": "ok",
     "timestamp": 1647859792607,
     "user": {
      "displayName": "Yashim Gabriel",
      "photoUrl": "https://lh3.googleusercontent.com/a-/AOh14Gjw9drS3wLJiPZisU2AVVfw1bPaiSVEro8fC_lQBw=s64",
      "userId": "09182690880857804954"
     },
     "user_tz": -60
    },
    "id": "M2SQRqkSDCic",
    "outputId": "4c1d0f83-8748-4f2d-d973-da9267f68406"
   },
   "outputs": [
    {
     "name": "stdout",
     "output_type": "stream",
     "text": [
      "0\n",
      "0\n",
      "0\n",
      "0\n",
      "0\n",
      "0\n",
      "0\n",
      "0\n",
      "0\n",
      "0\n",
      "0\n",
      "0\n",
      "0\n",
      "0\n",
      "0\n",
      "0\n",
      "0\n",
      "0\n",
      "0\n",
      "0\n",
      "0\n",
      "0\n",
      "0\n",
      "0\n",
      "0\n",
      "0\n",
      "0\n",
      "0\n",
      "0\n",
      "0\n",
      "0\n",
      "0\n",
      "0\n",
      "0\n",
      "0\n",
      "0\n",
      "0\n",
      "0\n",
      "0\n",
      "0\n",
      "0\n",
      "0\n",
      "0\n",
      "0\n",
      "0\n",
      "0\n",
      "0\n",
      "0\n",
      "0\n",
      "0\n",
      "0\n",
      "0\n",
      "0\n",
      "0\n",
      "0\n",
      "0\n",
      "0\n",
      "0\n",
      "0\n",
      "0\n",
      "0\n",
      "0\n",
      "0\n",
      "0\n",
      "0\n",
      "0\n",
      "0\n",
      "0\n",
      "0\n",
      "0\n",
      "0\n",
      "0\n",
      "0\n",
      "0\n",
      "0\n",
      "0\n",
      "0\n",
      "0\n",
      "0\n",
      "0\n",
      "0\n",
      "0\n",
      "0\n",
      "0\n",
      "0\n",
      "0\n",
      "0\n",
      "0\n",
      "0\n",
      "0\n",
      "0\n",
      "0\n",
      "0\n",
      "0\n",
      "0\n",
      "0\n",
      "0\n",
      "0\n",
      "0\n",
      "0\n",
      "0\n",
      "0\n",
      "0\n",
      "0\n",
      "0\n",
      "0\n",
      "0\n",
      "0\n",
      "0\n",
      "0\n",
      "0\n",
      "0\n",
      "0\n",
      "0\n",
      "0\n",
      "0\n",
      "0\n",
      "0\n"
     ]
    }
   ],
   "source": [
    "for x in rounded_prediction:\n",
    "  print(x)"
   ]
  },
  {
   "cell_type": "code",
   "execution_count": 27,
   "metadata": {
    "executionInfo": {
     "elapsed": 326,
     "status": "ok",
     "timestamp": 1647859800879,
     "user": {
      "displayName": "Yashim Gabriel",
      "photoUrl": "https://lh3.googleusercontent.com/a-/AOh14Gjw9drS3wLJiPZisU2AVVfw1bPaiSVEro8fC_lQBw=s64",
      "userId": "09182690880857804954"
     },
     "user_tz": -60
    },
    "id": "5yBaqnmWERUw"
   },
   "outputs": [],
   "source": [
    "%matplotlib inline\n",
    "from sklearn.metrics import confusion_matrix\n",
    "import itertools\n",
    "import matplotlib.pyplot as plt"
   ]
  },
  {
   "cell_type": "markdown",
   "metadata": {
    "executionInfo": {
     "elapsed": 473,
     "status": "ok",
     "timestamp": 1647859803723,
     "user": {
      "displayName": "Yashim Gabriel",
      "photoUrl": "https://lh3.googleusercontent.com/a-/AOh14Gjw9drS3wLJiPZisU2AVVfw1bPaiSVEro8fC_lQBw=s64",
      "userId": "09182690880857804954"
     },
     "user_tz": -60
    },
    "id": "UhquLnPH2BQY"
   },
   "source": [
    "## Confusion Matrix"
   ]
  },
  {
   "cell_type": "code",
   "execution_count": 29,
   "metadata": {
    "executionInfo": {
     "elapsed": 5,
     "status": "ok",
     "timestamp": 1647859804073,
     "user": {
      "displayName": "Yashim Gabriel",
      "photoUrl": "https://lh3.googleusercontent.com/a-/AOh14Gjw9drS3wLJiPZisU2AVVfw1bPaiSVEro8fC_lQBw=s64",
      "userId": "09182690880857804954"
     },
     "user_tz": -60
    },
    "id": "9JFyAxy8EnRw"
   },
   "outputs": [],
   "source": [
    "cm = confusion_matrix(y_true=test_label, y_pred=rounded_prediction)"
   ]
  },
  {
   "cell_type": "code",
   "execution_count": 30,
   "metadata": {
    "executionInfo": {
     "elapsed": 489,
     "status": "ok",
     "timestamp": 1647859805890,
     "user": {
      "displayName": "Yashim Gabriel",
      "photoUrl": "https://lh3.googleusercontent.com/a-/AOh14Gjw9drS3wLJiPZisU2AVVfw1bPaiSVEro8fC_lQBw=s64",
      "userId": "09182690880857804954"
     },
     "user_tz": -60
    },
    "id": "rqsy5l33E39M"
   },
   "outputs": [],
   "source": [
    "def plot_confusion_matrix(cm, classes, normalize=True, title=\"Confusion Matrix\", cmap=plt.cm.Blues):\n",
    "  plt.imshow(cm, interpolation=\"nearest\", cmap=cmap)\n",
    "  plt.title(title)\n",
    "  plt.colorbar()\n",
    "  tick_marks = np.arrange(len(classes))\n",
    "  plt.xticks(tick_marks, classes, rotation=45)\n",
    "  plt.yticks(tick_marks, classes)\n",
    "\n",
    "  if normalize:\n",
    "    cm = cm.astype(\"float\")/cm.sum(axis=1)[:,np.newaxis]\n",
    "    print(\"Normalized Confusion Matrix\")\n",
    "  else:\n",
    "    print(\"Confusion Matrix without Normalization\")\n",
    "  \n",
    "  print(cm)\n",
    "\n",
    "  threshold = cm.max()/2.\n",
    "  for i, j in itertools.product(range(cm.shape[0]), range(cm.shape[1])):\n",
    "    plt.text(j,i, cm[i,j],\n",
    "             horizontalalignment=\"center\",\n",
    "             color=\"white\" if cm[i,j] > threshold else \"black\")\n",
    "    plt.tight_layout()\n",
    "    plt.ylabel(\"True Label\")\n",
    "    plt.xlabel(\"Predicted Label\")  "
   ]
  },
  {
   "cell_type": "code",
   "execution_count": 5,
   "metadata": {
    "colab": {
     "base_uri": "https://localhost:8080/",
     "height": 609
    },
    "executionInfo": {
     "elapsed": 482,
     "status": "error",
     "timestamp": 1647859945433,
     "user": {
      "displayName": "Yashim Gabriel",
      "photoUrl": "https://lh3.googleusercontent.com/a-/AOh14Gjw9drS3wLJiPZisU2AVVfw1bPaiSVEro8fC_lQBw=s64",
      "userId": "09182690880857804954"
     },
     "user_tz": -60
    },
    "id": "iwCGu8hfJARH",
    "outputId": "8bc316b8-1737-4e3a-dda0-17bb7d5784e6"
   },
   "outputs": [],
   "source": [
    "# cm_plot_labels = [\"No Tumor\",\"Tumor\"]\n",
    "# plot_confusion_matrix(cm, \n",
    "#                       classes=cm_plot_labels, \n",
    "#                       title=\"Confufsion Matrix\")"
   ]
  },
  {
   "cell_type": "code",
   "execution_count": null,
   "metadata": {
    "id": "ORlFKag_JhPH"
   },
   "outputs": [],
   "source": []
  }
 ],
 "metadata": {
  "accelerator": "GPU",
  "colab": {
   "authorship_tag": "ABX9TyP7V5s9KZmSe8cPHJNj7YmK",
   "collapsed_sections": [],
   "name": "PANCREATIC_CANCER_DETECTION_CNN.ipynb",
   "provenance": []
  },
  "kernelspec": {
   "display_name": "Python 3",
   "language": "python",
   "name": "python3"
  },
  "language_info": {
   "codemirror_mode": {
    "name": "ipython",
    "version": 3
   },
   "file_extension": ".py",
   "mimetype": "text/x-python",
   "name": "python",
   "nbconvert_exporter": "python",
   "pygments_lexer": "ipython3",
   "version": "3.7.4"
  }
 },
 "nbformat": 4,
 "nbformat_minor": 1
}
